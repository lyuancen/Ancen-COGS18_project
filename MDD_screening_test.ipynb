{
 "cells": [
  {
   "cell_type": "markdown",
   "id": "314d1d4b",
   "metadata": {},
   "source": [
    "MDD (maladaptive daydreaming) is a common but often ignored psychological disease. It's definition is 'A person regularly experiences daydreams that are intense and highly distracting.'\n",
    "\n",
    "MDD's common symptoms include: spending hours for daydreaming without doing anything, academic performance and social activities affected by daydreaming, can't distinguish from reality and fantasy etc.\n",
    "\n",
    "In real diagnosis, this disease is almost always confused with schizophrenia. However, it should be a totally different disease from schizophrenia due to some unique symptoms.\n",
    "\n",
    "I wrote this screening test using a form of chatbot as a primary screening for MDD. The user should answer four Y/N questions about the classic symptoms of MDD, and they will get an output about their risks of having MDD. If their risks of having MDD is high, further diagnosis may be needed. Thus, this program serve as a primary screening that targets some potential MDD patients."
   ]
  },
  {
   "cell_type": "code",
   "execution_count": 1,
   "id": "baa68152",
   "metadata": {},
   "outputs": [],
   "source": [
    "from functions import check_input"
   ]
  },
  {
   "cell_type": "code",
   "execution_count": 2,
   "id": "e3458630",
   "metadata": {},
   "outputs": [],
   "source": [
    "from functions import Points"
   ]
  },
  {
   "cell_type": "code",
   "execution_count": 3,
   "id": "77169c3c",
   "metadata": {},
   "outputs": [],
   "source": [
    "from functions import start_chat"
   ]
  },
  {
   "cell_type": "code",
   "execution_count": 4,
   "id": "bb1c6c25",
   "metadata": {},
   "outputs": [],
   "source": [
    "from TestFolder.test import test_check_input"
   ]
  },
  {
   "cell_type": "code",
   "execution_count": 5,
   "id": "1e2ed4ce",
   "metadata": {},
   "outputs": [],
   "source": [
    "from TestFolder.test import test_Points"
   ]
  },
  {
   "cell_type": "code",
   "execution_count": 6,
   "id": "3a26392b",
   "metadata": {},
   "outputs": [],
   "source": [
    "from TestFolder.test import test_start_chat"
   ]
  },
  {
   "cell_type": "code",
   "execution_count": 7,
   "id": "47c4cbb7",
   "metadata": {},
   "outputs": [],
   "source": [
    "test_check_input()"
   ]
  },
  {
   "cell_type": "code",
   "execution_count": 8,
   "id": "850650e1",
   "metadata": {},
   "outputs": [],
   "source": [
    "test_Points()"
   ]
  },
  {
   "cell_type": "code",
   "execution_count": 9,
   "id": "0d6a0563",
   "metadata": {},
   "outputs": [],
   "source": [
    "test_start_chat()"
   ]
  },
  {
   "cell_type": "code",
   "execution_count": 10,
   "id": "45c93c4d",
   "metadata": {},
   "outputs": [
    {
     "name": "stdout",
     "output_type": "stream",
     "text": [
      "Hi. I'm a chatbot used to screen your potential risk of MDD.                                                       Please answer my questions using YES no NO.                                                                         Do you want to start now?yes\n",
      "Do you ever spend hours doing nothing but daydreaming?yes\n",
      "Does your daydreaming interfere with your studying or social?yes\n",
      "Do you somehow believe the characters and events in your daydream are real?no\n",
      "Are your daydreams easily trigerred by music, movies, or other medias?no\n"
     ]
    },
    {
     "data": {
      "text/plain": [
       "'Your risk of MDD is moderate. You could choose to take further inspection.'"
      ]
     },
     "execution_count": 10,
     "metadata": {},
     "output_type": "execute_result"
    }
   ],
   "source": [
    "start_chat()"
   ]
  },
  {
   "cell_type": "markdown",
   "id": "dccf4c45",
   "metadata": {},
   "source": [
    "extra credit:\n",
    "- I used the input function which is not deeply specified during the lecture.\n",
    "- For the test function, I used pytest to test whether the error raised as expected if the type of users' inputs are not right.\n",
    "- For the docstring, I added a Raises section to specify the error that will raise if the input's type is incorrect."
   ]
  },
  {
   "cell_type": "markdown",
   "id": "7a0da929",
   "metadata": {},
   "source": [
    "limitations:\n",
    "I used input functions repeatedly which makes my code looks lengthy. Currently I don't know how to use a simple method like loop to achieve the same function, but if I have more time, I'll explore further about this part."
   ]
  }
 ],
 "metadata": {
  "kernelspec": {
   "display_name": "Python 3 (ipykernel)",
   "language": "python",
   "name": "python3"
  },
  "language_info": {
   "codemirror_mode": {
    "name": "ipython",
    "version": 3
   },
   "file_extension": ".py",
   "mimetype": "text/x-python",
   "name": "python",
   "nbconvert_exporter": "python",
   "pygments_lexer": "ipython3",
   "version": "3.9.5"
  }
 },
 "nbformat": 4,
 "nbformat_minor": 5
}
